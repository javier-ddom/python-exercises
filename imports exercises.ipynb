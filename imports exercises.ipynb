{
 "cells": [
  {
   "cell_type": "code",
   "execution_count": 6,
   "id": "650ca05d",
   "metadata": {},
   "outputs": [],
   "source": [
    "#import (python functions exercises)"
   ]
  },
  {
   "cell_type": "code",
   "execution_count": 167,
   "id": "c50c426d",
   "metadata": {},
   "outputs": [
    {
     "data": {
      "text/plain": [
       "'/Users/javierdominguez/codeup-data-science/python exercises'"
      ]
     },
     "execution_count": 167,
     "metadata": {},
     "output_type": "execute_result"
    }
   ],
   "source": [
    "import os\n",
    "\n",
    "os.getcwd()\n"
   ]
  },
  {
   "cell_type": "code",
   "execution_count": 168,
   "id": "f9cf3cdc",
   "metadata": {},
   "outputs": [
    {
     "name": "stdout",
     "output_type": "stream",
     "text": [
      "/Users/javierdominguez/codeup-data-science/python exercises\n"
     ]
    }
   ],
   "source": [
    "os.chdir('/Users/javierdominguez/codeup-data-science/python exercises')\n",
    "\n",
    "location = os.getcwd()\n",
    "print (location)"
   ]
  },
  {
   "cell_type": "markdown",
   "id": "02bd5f05",
   "metadata": {},
   "source": [
    "# 3 functions exercise"
   ]
  },
  {
   "cell_type": "code",
   "execution_count": 169,
   "id": "7b32264b",
   "metadata": {},
   "outputs": [
    {
     "name": "stdout",
     "output_type": "stream",
     "text": [
      "Its a vowel\n"
     ]
    },
    {
     "data": {
      "text/plain": [
       "True"
      ]
     },
     "execution_count": 169,
     "metadata": {},
     "output_type": "execute_result"
    }
   ],
   "source": [
    "import python_functions_exercises\n",
    "\n",
    "python_functions_exercises.is_vowel('a')"
   ]
  },
  {
   "cell_type": "code",
   "execution_count": 10,
   "id": "510264df",
   "metadata": {},
   "outputs": [
    {
     "name": "stdout",
     "output_type": "stream",
     "text": [
      "Itsa vowel\n"
     ]
    },
    {
     "data": {
      "text/plain": [
       "False"
      ]
     },
     "execution_count": 10,
     "metadata": {},
     "output_type": "execute_result"
    }
   ],
   "source": [
    "python_functions_exercises.check_conson('a')"
   ]
  },
  {
   "cell_type": "code",
   "execution_count": 11,
   "id": "6f171032",
   "metadata": {},
   "outputs": [
    {
     "name": "stdout",
     "output_type": "stream",
     "text": [
      "22.0\n"
     ]
    }
   ],
   "source": [
    "from python_functions_exercises import calculate_tip\n",
    "\n",
    "calculate_tip(110, .2)"
   ]
  },
  {
   "cell_type": "code",
   "execution_count": 12,
   "id": "58fd0263",
   "metadata": {},
   "outputs": [
    {
     "name": "stdout",
     "output_type": "stream",
     "text": [
      "What is your grade (0-100):\n"
     ]
    },
    {
     "ename": "ValueError",
     "evalue": "invalid literal for int() with base 10: ''",
     "output_type": "error",
     "traceback": [
      "\u001b[0;31m---------------------------------------------------------------------------\u001b[0m",
      "\u001b[0;31mValueError\u001b[0m                                Traceback (most recent call last)",
      "Input \u001b[0;32mIn [12]\u001b[0m, in \u001b[0;36m<cell line: 3>\u001b[0;34m()\u001b[0m\n\u001b[1;32m      1\u001b[0m \u001b[38;5;28;01mfrom\u001b[39;00m \u001b[38;5;21;01mpython_functions_exercises\u001b[39;00m \u001b[38;5;28;01mimport\u001b[39;00m get_letter_grade \u001b[38;5;28;01mas\u001b[39;00m glg\n\u001b[0;32m----> 3\u001b[0m \u001b[43mglg\u001b[49m\u001b[43m(\u001b[49m\u001b[43m)\u001b[49m\n",
      "File \u001b[0;32m~/codeup-data-science/python exercises/python_functions_exercises.py:159\u001b[0m, in \u001b[0;36mget_letter_grade\u001b[0;34m()\u001b[0m\n\u001b[1;32m    157\u001b[0m i \u001b[38;5;241m=\u001b[39m \u001b[38;5;241m10\u001b[39m\n\u001b[1;32m    158\u001b[0m \u001b[38;5;28;01mwhile\u001b[39;00m i \u001b[38;5;241m>\u001b[39m \u001b[38;5;241m1\u001b[39m:\n\u001b[0;32m--> 159\u001b[0m     user_grade \u001b[38;5;241m=\u001b[39m \u001b[38;5;28;43mint\u001b[39;49m\u001b[43m(\u001b[49m\u001b[38;5;28;43minput\u001b[39;49m\u001b[43m(\u001b[49m\u001b[38;5;124;43m\"\u001b[39;49m\u001b[38;5;124;43mWhat is your grade (0-100):\u001b[39;49m\u001b[38;5;124;43m\"\u001b[39;49m\u001b[43m)\u001b[49m\u001b[43m)\u001b[49m\n\u001b[1;32m    160\u001b[0m     \u001b[38;5;28;01mif\u001b[39;00m user_grade \u001b[38;5;241m>\u001b[39m\u001b[38;5;241m=\u001b[39m \u001b[38;5;241m88\u001b[39m:\n\u001b[1;32m    161\u001b[0m             \u001b[38;5;28mprint\u001b[39m(\u001b[38;5;124m'\u001b[39m\u001b[38;5;124mYou made an A! Amazing\u001b[39m\u001b[38;5;124m'\u001b[39m)\n",
      "\u001b[0;31mValueError\u001b[0m: invalid literal for int() with base 10: ''"
     ]
    }
   ],
   "source": [
    "from python_functions_exercises import get_letter_grade as glg\n",
    "\n",
    "glg()"
   ]
  },
  {
   "cell_type": "code",
   "execution_count": 13,
   "id": "ca6f9191",
   "metadata": {},
   "outputs": [],
   "source": [
    "import itertools\n",
    "#itertools.permutation(1,2,3,'a','b','c')"
   ]
  },
  {
   "cell_type": "code",
   "execution_count": 14,
   "id": "0e36d777",
   "metadata": {},
   "outputs": [
    {
     "data": {
      "text/plain": [
       "[('a', 'b', 'c'),\n",
       " ('a', 'b', '1'),\n",
       " ('a', 'b', '2'),\n",
       " ('a', 'b', '3'),\n",
       " ('a', 'c', '1'),\n",
       " ('a', 'c', '2'),\n",
       " ('a', 'c', '3'),\n",
       " ('a', '1', '2'),\n",
       " ('a', '1', '3'),\n",
       " ('a', '2', '3'),\n",
       " ('b', 'c', '1'),\n",
       " ('b', 'c', '2'),\n",
       " ('b', 'c', '3'),\n",
       " ('b', '1', '2'),\n",
       " ('b', '1', '3'),\n",
       " ('b', '2', '3'),\n",
       " ('c', '1', '2'),\n",
       " ('c', '1', '3'),\n",
       " ('c', '2', '3'),\n",
       " ('1', '2', '3')]"
      ]
     },
     "execution_count": 14,
     "metadata": {},
     "output_type": "execute_result"
    }
   ],
   "source": [
    "list(itertools.combinations('abc123', 3)) #21 results?"
   ]
  },
  {
   "cell_type": "code",
   "execution_count": 15,
   "id": "e46e027c",
   "metadata": {},
   "outputs": [
    {
     "data": {
      "text/plain": [
       "[('a', 'b'), ('a', 'c'), ('a', 'd'), ('b', 'c'), ('b', 'd'), ('c', 'd')]"
      ]
     },
     "execution_count": 15,
     "metadata": {},
     "output_type": "execute_result"
    }
   ],
   "source": [
    "list(itertools.combinations('abcd', 2)) #6 combos"
   ]
  },
  {
   "cell_type": "code",
   "execution_count": 181,
   "id": "fe4ce132",
   "metadata": {},
   "outputs": [
    {
     "data": {
      "text/plain": [
       "[('a', 'b'),\n",
       " ('a', 'c'),\n",
       " ('a', 'd'),\n",
       " ('b', 'a'),\n",
       " ('b', 'c'),\n",
       " ('b', 'd'),\n",
       " ('c', 'a'),\n",
       " ('c', 'b'),\n",
       " ('c', 'd'),\n",
       " ('d', 'a'),\n",
       " ('d', 'b'),\n",
       " ('d', 'c')]"
      ]
     },
     "execution_count": 181,
     "metadata": {},
     "output_type": "execute_result"
    }
   ],
   "source": [
    "list(itertools.permutations('abcd', 2)) #12 combos"
   ]
  },
  {
   "cell_type": "markdown",
   "id": "a99f4206",
   "metadata": {},
   "source": [
    "# profiles"
   ]
  },
  {
   "cell_type": "code",
   "execution_count": 93,
   "id": "74df1dd9",
   "metadata": {},
   "outputs": [],
   "source": [
    "import json"
   ]
  },
  {
   "cell_type": "code",
   "execution_count": 131,
   "id": "56ac3a07",
   "metadata": {
    "scrolled": true
   },
   "outputs": [],
   "source": [
    "with open('profiles.json', 'r', encoding='utf-8') as pro:\n",
    "    profs = json.load(pro)"
   ]
  },
  {
   "cell_type": "code",
   "execution_count": 139,
   "id": "3c365efe",
   "metadata": {},
   "outputs": [
    {
     "name": "stdout",
     "output_type": "stream",
     "text": [
      "[{'_id': '54e23c3e46ab53a440b580e8', 'index': 0, 'guid': '9962b468-ef3e-4993-b677-617469bc3008', 'isActive': False, 'balance': '$2,097.02', 'picture': 'http://placehold.it/32x32', 'age': 39, 'eyeColor': 'blue', 'name': 'Hebert Estes', 'gender': 'male', 'company': 'ANDRYX', 'email': 'hebertestes@andryx.com', 'phone': '+1 (866) 456-2268', 'address': '121 Emmons Avenue, Klondike, Kentucky, 5975', 'about': 'Sit cillum deserunt irure laboris tempor fugiat laboris. Amet commodo amet est incididunt. Dolore qui fugiat cillum pariatur dolore excepteur elit ipsum.\\r\\n', 'registered': '2014-11-10T01:44:03 +06:00', 'latitude': -80.157843, 'longitude': 161.93016, 'tags': ['sit', 'occaecat', 'non', 'ea', 'sit', 'laboris', 'exercitation'], 'friends': [{'id': 0, 'name': 'Tanisha Leonard'}, {'id': 1, 'name': 'Dennis Wilson'}, {'id': 2, 'name': 'Lupe Howe'}], 'greeting': 'Hello, Hebert Estes! You have 4 unread messages.', 'favoriteFruit': 'strawberry'}, {'_id': '54e23c3ef5cc0d250968c212', 'index': 1, 'guid': '905f849d-49bf-4a57-b4f3-5d6e4bf1b04c', 'isActive': False, 'balance': '$3,654.02', 'picture': 'http://placehold.it/32x32', 'age': 30, 'eyeColor': 'green', 'name': 'Allison Wynn', 'gender': 'male', 'company': 'PHARMACON', 'email': 'allisonwynn@pharmacon.com', 'phone': '+1 (926) 525-3131', 'address': '724 Brevoort Place, Lodoga, Indiana, 3880', 'about': 'Esse quis cillum sunt occaecat ad et eu incididunt aliquip dolor. Adipisicing labore magna anim cillum nisi. Elit mollit consequat velit nulla cillum excepteur elit ullamco deserunt. Anim aliquip Lorem excepteur ad veniam et labore in qui ullamco. Occaecat sit do incididunt voluptate id magna ea amet.\\r\\n', 'registered': '2014-06-10T13:41:26 +05:00', 'latitude': 55.737207, 'longitude': -167.177561, 'tags': ['enim', 'officia', 'laboris', 'irure', 'veniam', 'occaecat', 'pariatur'], 'friends': [{'id': 0, 'name': 'Curry Cox'}, {'id': 1, 'name': 'Alma Dale'}, {'id': 2, 'name': 'Barbara Mayo'}], 'greeting': 'Hello, Allison Wynn! You have 19 unread messages.', 'favoriteFruit': 'apple'}, {'_id': '54e23c3e09cc6875638cd36b', 'index': 2, 'guid': '1b042d48-9cfa-4db5-8b60-4104165591c3', 'isActive': True, 'balance': '$1,536.02', 'picture': 'http://placehold.it/32x32', 'age': 31, 'eyeColor': 'brown', 'name': 'Jacobs Floyd', 'gender': 'male', 'company': 'QUONK', 'email': 'jacobsfloyd@quonk.com', 'phone': '+1 (853) 537-3315', 'address': '941 Cox Place, Bluffview, Georgia, 5882', 'about': 'Deserunt adipisicing proident exercitation cillum anim consectetur labore exercitation. Commodo reprehenderit laborum enim exercitation. Ullamco nulla culpa aliqua nisi fugiat consectetur deserunt nostrud in eu.\\r\\n', 'registered': '2014-07-30T03:17:32 +05:00', 'latitude': 30.215667, 'longitude': 68.831905, 'tags': ['est', 'aute', 'laborum', 'sint', 'anim', 'sit', 'consectetur'], 'friends': [{'id': 0, 'name': 'Robles Chan'}, {'id': 1, 'name': 'Whitfield Strickland'}, {'id': 2, 'name': 'Lina Melton'}], 'greeting': 'Hello, Jacobs Floyd! You have 5 unread messages.', 'favoriteFruit': 'banana'}, {'_id': '54e23c3e54e4094147a3b1da', 'index': 3, 'guid': '69eb3454-8acc-46f1-a636-c6df00dfb542', 'isActive': False, 'balance': '$3,919.64', 'picture': 'http://placehold.it/32x32', 'age': 20, 'eyeColor': 'green', 'name': 'Fay Hammond', 'gender': 'female', 'company': 'INRT', 'email': 'fayhammond@inrt.com', 'phone': '+1 (922) 429-2592', 'address': '518 Randolph Street, Whitestone, Arizona, 8189', 'about': 'Aliqua sunt exercitation quis cupidatat fugiat nulla laboris occaecat ut reprehenderit qui incididunt. Amet excepteur qui amet mollit sint enim velit est dolor eu. Velit labore ea aute ipsum consequat culpa cupidatat excepteur aliqua. Sit commodo id est deserunt commodo. Labore sit deserunt enim in dolore incididunt. Officia qui est veniam cillum consequat minim duis Lorem esse magna culpa cupidatat cupidatat enim. Amet eiusmod elit qui reprehenderit commodo quis.\\r\\n', 'registered': '2015-01-30T08:05:38 +06:00', 'latitude': 33.825844, 'longitude': -65.969538, 'tags': ['aliqua', 'esse', 'sint', 'pariatur', 'commodo', 'do', 'anim'], 'friends': [{'id': 0, 'name': 'Dudley Booker'}, {'id': 1, 'name': 'Esmeralda Tyler'}, {'id': 2, 'name': 'Rosa Hampton'}], 'greeting': 'Hello, Fay Hammond! You have 10 unread messages.', 'favoriteFruit': 'banana'}, {'_id': '54e23c3e177caf5567ba87ac', 'index': 4, 'guid': '97962c85-7700-4ffa-a01e-2fcbc147fd81', 'isActive': False, 'balance': '$3,681.39', 'picture': 'http://placehold.it/32x32', 'age': 39, 'eyeColor': 'green', 'name': 'Chasity Marsh', 'gender': 'female', 'company': 'WAZZU', 'email': 'chasitymarsh@wazzu.com', 'phone': '+1 (976) 425-2362', 'address': '604 Just Court, Eastvale, Federated States Of Micronesia, 8644', 'about': 'Irure excepteur consequat esse qui tempor deserunt nulla fugiat. Ut excepteur do veniam dolore dolor proident sunt voluptate ad ipsum nisi. Lorem proident deserunt Lorem cupidatat dolor nulla qui id aliqua. Et nulla laborum deserunt tempor ad culpa. Ullamco occaecat adipisicing dolore laborum laborum duis aliqua nisi irure ex. Incididunt tempor Lorem quis dolore.\\r\\n', 'registered': '2014-07-31T06:03:19 +05:00', 'latitude': -31.660978, 'longitude': 37.559095, 'tags': ['aliquip', 'duis', 'irure', 'amet', 'aliquip', 'dolore', 'esse'], 'friends': [{'id': 0, 'name': 'Kristina Glover'}, {'id': 1, 'name': 'Ora Christian'}, {'id': 2, 'name': 'Jacklyn Joseph'}], 'greeting': 'Hello, Chasity Marsh! You have 9 unread messages.', 'favoriteFruit': 'apple'}, {'_id': '54e23c3eaffbb506aa15ec1c', 'index': 5, 'guid': 'fc3e04d1-44c2-449e-891a-d4f8053d14a4', 'isActive': True, 'balance': '$1,694.42', 'picture': 'http://placehold.it/32x32', 'age': 30, 'eyeColor': 'brown', 'name': 'Camacho Cortez', 'gender': 'male', 'company': 'EARTHWAX', 'email': 'camachocortez@earthwax.com', 'phone': '+1 (869) 528-2019', 'address': '101 Haring Street, Nicut, Louisiana, 1473', 'about': 'Qui ad commodo elit voluptate cupidatat exercitation amet ea laborum sunt aliquip nisi irure. Veniam voluptate eiusmod sint aliquip ea. Voluptate voluptate Lorem nulla laborum eiusmod occaecat et nostrud sint in cillum reprehenderit magna nulla. Lorem id fugiat laborum qui mollit amet. Culpa officia ipsum nisi culpa in. Fugiat quis eu cupidatat non culpa in ea velit pariatur non in excepteur.\\r\\n', 'registered': '2014-03-17T12:04:00 +05:00', 'latitude': 74.434627, 'longitude': 69.527088, 'tags': ['et', 'sit', 'in', 'id', 'ullamco', 'elit', 'laborum'], 'friends': [{'id': 0, 'name': 'Sexton Tillman'}, {'id': 1, 'name': 'Boone Steele'}, {'id': 2, 'name': 'Elvia Ward'}], 'greeting': 'Hello, Camacho Cortez! You have 19 unread messages.', 'favoriteFruit': 'apple'}, {'_id': '54e23c3e0fd8074c2ca52667', 'index': 6, 'guid': 'af8d9a03-fde9-4039-b20c-c4708d4cfc3c', 'isActive': False, 'balance': '$1,214.10', 'picture': 'http://placehold.it/32x32', 'age': 35, 'eyeColor': 'green', 'name': 'Avery Flynn', 'gender': 'male', 'company': 'TERSANKI', 'email': 'averyflynn@tersanki.com', 'phone': '+1 (966) 404-2471', 'address': '569 Oakland Place, Beyerville, Puerto Rico, 2395', 'about': 'Minim consequat anim ad et tempor et pariatur cillum ut. Ea Lorem consectetur sunt aliquip ea minim minim id dolore incididunt qui magna. Magna velit labore dolore voluptate ut aliquip esse qui est ipsum cupidatat duis enim. Sunt esse eiusmod cupidatat duis quis sunt anim dolore adipisicing enim dolore aliqua mollit. Commodo sit ad eiusmod reprehenderit.\\r\\n', 'registered': '2014-04-13T10:25:03 +05:00', 'latitude': -89.879409, 'longitude': 143.441709, 'tags': ['quis', 'esse', 'Lorem', 'minim', 'nostrud', 'voluptate', 'laborum'], 'friends': [{'id': 0, 'name': 'Ball Henson'}, {'id': 1, 'name': 'Dalton Mccoy'}, {'id': 2, 'name': 'Carolina Sharp'}], 'greeting': 'Hello, Avery Flynn! You have 13 unread messages.', 'favoriteFruit': 'banana'}, {'_id': '54e23c3eb112d96e4204914d', 'index': 7, 'guid': '95f1c020-f9eb-4a29-b236-e766759d89d0', 'isActive': False, 'balance': '$2,930.31', 'picture': 'http://placehold.it/32x32', 'age': 23, 'eyeColor': 'blue', 'name': 'Michael Cash', 'gender': 'male', 'company': 'ORBIXTAR', 'email': 'michaelcash@orbixtar.com', 'phone': '+1 (996) 439-3660', 'address': '808 Duryea Court, Downsville, Northern Mariana Islands, 2154', 'about': 'Minim proident minim consectetur nostrud dolor reprehenderit. Ea est proident non do cillum eu est dolor Lorem id. Tempor enim incididunt consequat voluptate nulla ipsum voluptate id. Incididunt enim laboris nostrud in exercitation est culpa nulla velit.\\r\\n', 'registered': '2014-05-24T17:56:54 +05:00', 'latitude': -86.621367, 'longitude': -4.06197, 'tags': ['eu', 'sit', 'dolore', 'culpa', 'Lorem', 'in', 'esse'], 'friends': [{'id': 0, 'name': 'Rodgers Nolan'}, {'id': 1, 'name': 'Jewel Marks'}, {'id': 2, 'name': 'Sue Mejia'}], 'greeting': 'Hello, Michael Cash! You have 17 unread messages.', 'favoriteFruit': 'strawberry'}, {'_id': '54e23c3ef30f14d0e5afddf3', 'index': 8, 'guid': 'bde2d56f-2488-40d0-a7d2-21019ee8a18b', 'isActive': False, 'balance': '$1,944.15', 'picture': 'http://placehold.it/32x32', 'age': 25, 'eyeColor': 'green', 'name': 'Madeleine Bray', 'gender': 'female', 'company': 'KIDSTOCK', 'email': 'madeleinebray@kidstock.com', 'phone': '+1 (820) 541-2969', 'address': '684 Stratford Road, Rosine, District Of Columbia, 7177', 'about': 'Ullamco ea esse ullamco commodo quis amet ut ad. Sint eiusmod ullamco minim nostrud amet in ex adipisicing velit cillum Lorem enim nostrud. Deserunt esse incididunt eiusmod commodo ullamco id pariatur tempor duis laboris Lorem. Laboris magna Lorem quis laborum ullamco. Dolor minim magna ut occaecat in consequat consequat in commodo pariatur voluptate pariatur dolore. Quis exercitation cillum labore cillum laborum. Dolore est reprehenderit anim reprehenderit consectetur sit quis ea ut veniam.\\r\\n', 'registered': '2014-08-11T08:54:06 +05:00', 'latitude': 45.118798, 'longitude': -7.698707, 'tags': ['id', 'magna', 'excepteur', 'excepteur', 'excepteur', 'duis', 'excepteur'], 'friends': [{'id': 0, 'name': 'Herrera Doyle'}, {'id': 1, 'name': 'Berger Fisher'}, {'id': 2, 'name': 'Chang Coffey'}], 'greeting': 'Hello, Madeleine Bray! You have 2 unread messages.', 'favoriteFruit': 'strawberry'}, {'_id': '54e23c3ebd80e9c26b057fa3', 'index': 9, 'guid': '75991ca5-05ed-499e-bbb5-f057f86d05d7', 'isActive': True, 'balance': '$2,839.22', 'picture': 'http://placehold.it/32x32', 'age': 37, 'eyeColor': 'blue', 'name': 'Corine French', 'gender': 'female', 'company': 'INTRAWEAR', 'email': 'corinefrench@intrawear.com', 'phone': '+1 (987) 573-3164', 'address': '964 Clara Street, Snyderville, Oklahoma, 3627', 'about': 'Sint cillum laborum labore duis fugiat voluptate adipisicing. Ad culpa et et ea incididunt nulla excepteur officia. Cillum veniam amet ipsum reprehenderit do eiusmod aliqua aute nisi Lorem consectetur esse in incididunt.\\r\\n', 'registered': '2014-06-25T20:17:13 +05:00', 'latitude': -37.637422, 'longitude': 154.195523, 'tags': ['laboris', 'in', 'dolore', 'mollit', 'velit', 'laboris', 'excepteur'], 'friends': [{'id': 0, 'name': 'Greta Hill'}, {'id': 1, 'name': 'Cline Curry'}, {'id': 2, 'name': 'Branch Sawyer'}], 'greeting': 'Hello, Corine French! You have 18 unread messages.', 'favoriteFruit': 'banana'}, {'_id': '54e23c3e6d89c09f5507e7dd', 'index': 10, 'guid': '87cffc18-3acf-40c5-8708-1bb93f1b68de', 'isActive': True, 'balance': '$2,467.31', 'picture': 'http://placehold.it/32x32', 'age': 29, 'eyeColor': 'blue', 'name': 'Trudy Cummings', 'gender': 'female', 'company': 'SPLINX', 'email': 'trudycummings@splinx.com', 'phone': '+1 (925) 403-2797', 'address': '558 Charles Place, Tedrow, California, 9832', 'about': 'Non id adipisicing deserunt non magna ex adipisicing sint esse sint. Laborum ea nostrud Lorem voluptate quis proident eu nisi exercitation in. Consequat occaecat proident officia anim.\\r\\n', 'registered': '2014-03-13T17:54:31 +05:00', 'latitude': -36.185131, 'longitude': -37.774906, 'tags': ['aute', 'occaecat', 'ea', 'pariatur', 'consectetur', 'magna', 'ea'], 'friends': [{'id': 0, 'name': 'Amber Gates'}, {'id': 1, 'name': 'Barron Walsh'}, {'id': 2, 'name': 'Nell Bolton'}], 'greeting': 'Hello, Trudy Cummings! You have 2 unread messages.', 'favoriteFruit': 'strawberry'}, {'_id': '54e23c3e4192cf53edd67c99', 'index': 11, 'guid': '5a5496f1-a027-4c21-85da-c399234cd9a5', 'isActive': True, 'balance': '$3,304.99', 'picture': 'http://placehold.it/32x32', 'age': 21, 'eyeColor': 'brown', 'name': 'Peggy Mayer', 'gender': 'female', 'company': 'ACCUPRINT', 'email': 'peggymayer@accuprint.com', 'phone': '+1 (854) 428-2585', 'address': '830 Willmohr Street, Crenshaw, Missouri, 6032', 'about': 'Aliqua sit enim cillum aliquip ad proident excepteur in consectetur eiusmod. Ipsum sint cillum veniam eiusmod aute sunt et do est tempor. Lorem elit dolor dolore incididunt cillum. Enim occaecat minim sunt cillum est velit cillum deserunt tempor eu.\\r\\n', 'registered': '2014-09-14T07:06:49 +05:00', 'latitude': 48.323912, 'longitude': 22.184821, 'tags': ['commodo', 'esse', 'ad', 'ullamco', 'ea', 'sint', 'ipsum'], 'friends': [{'id': 0, 'name': 'Hopkins Mccall'}, {'id': 1, 'name': 'Nielsen Weeks'}, {'id': 2, 'name': 'Dale Knowles'}], 'greeting': 'Hello, Peggy Mayer! You have 13 unread messages.', 'favoriteFruit': 'strawberry'}, {'_id': '54e23c3eedcc65f0ec3a5496', 'index': 12, 'guid': '759a21c4-5f9c-4189-9c50-c9d8a9f31037', 'isActive': False, 'balance': '$3,844.42', 'picture': 'http://placehold.it/32x32', 'age': 40, 'eyeColor': 'brown', 'name': 'Chan Hurley', 'gender': 'male', 'company': 'ZEAM', 'email': 'chanhurley@zeam.com', 'phone': '+1 (917) 475-3705', 'address': '915 Channel Avenue, Clinton, North Dakota, 6244', 'about': 'Voluptate exercitation ut anim ex adipisicing ut do officia incididunt fugiat cupidatat aliqua. Cillum ullamco irure dolore est consectetur non consequat. Nulla ullamco eu irure qui dolor magna ipsum id in enim voluptate aute. Officia aliqua dolore ut reprehenderit Lorem cillum. Cillum reprehenderit eu cillum aliqua sint eiusmod cupidatat culpa elit in. Fugiat voluptate reprehenderit amet anim qui nisi velit aliqua proident anim.\\r\\n', 'registered': '2014-03-01T14:51:23 +06:00', 'latitude': 85.901051, 'longitude': -74.986179, 'tags': ['minim', 'veniam', 'sit', 'aute', 'irure', 'non', 'eiusmod'], 'friends': [{'id': 0, 'name': 'Reese Grant'}, {'id': 1, 'name': 'Jenna Kinney'}, {'id': 2, 'name': 'Rhea May'}], 'greeting': 'Hello, Chan Hurley! You have 7 unread messages.', 'favoriteFruit': 'apple'}, {'_id': '54e23c3eb813e66c6d33aa82', 'index': 13, 'guid': '6fd14a8e-3158-48eb-a7e1-93fe57b74746', 'isActive': True, 'balance': '$3,594.99', 'picture': 'http://placehold.it/32x32', 'age': 40, 'eyeColor': 'blue', 'name': 'Diaz Pena', 'gender': 'male', 'company': 'SUREPLEX', 'email': 'diazpena@sureplex.com', 'phone': '+1 (986) 511-3050', 'address': '184 Kingsway Place, Grantville, Michigan, 2421', 'about': 'Enim elit amet officia consectetur do Lorem reprehenderit cupidatat exercitation velit. Ex tempor esse consectetur dolore aute et. Cupidatat duis nulla in incididunt nulla ullamco non magna officia commodo anim. Labore quis ullamco est deserunt excepteur duis nostrud deserunt cillum proident. Non eiusmod consectetur pariatur deserunt irure quis exercitation ex incididunt quis dolore pariatur sunt irure. Eu do fugiat laboris tempor culpa.\\r\\n', 'registered': '2014-04-19T20:43:12 +05:00', 'latitude': 6.606991, 'longitude': 81.593748, 'tags': ['excepteur', 'elit', 'ullamco', 'excepteur', 'ad', 'quis', 'dolore'], 'friends': [{'id': 0, 'name': 'Mcmillan Knox'}, {'id': 1, 'name': 'Flossie Dixon'}, {'id': 2, 'name': 'Sears Carson'}], 'greeting': 'Hello, Diaz Pena! You have 13 unread messages.', 'favoriteFruit': 'strawberry'}, {'_id': '54e23c3e502a2f526b689c3e', 'index': 14, 'guid': '459cc82d-7878-42cb-b9c6-073506380036', 'isActive': True, 'balance': '$2,940.24', 'picture': 'http://placehold.it/32x32', 'age': 40, 'eyeColor': 'brown', 'name': 'Heath Castaneda', 'gender': 'male', 'company': 'NETPLODE', 'email': 'heathcastaneda@netplode.com', 'phone': '+1 (944) 478-3741', 'address': '278 Village Road, Sunnyside, Massachusetts, 7496', 'about': 'Consectetur mollit cupidatat ex consectetur eiusmod ut. Cupidatat anim cupidatat cupidatat minim ipsum et quis amet proident pariatur. Do consectetur fugiat quis nisi non. Ut eu consequat consequat in ullamco eiusmod quis cillum sunt dolore anim. Non irure aliqua aliqua enim elit labore consequat.\\r\\n', 'registered': '2014-07-30T21:38:43 +05:00', 'latitude': 69.928876, 'longitude': 33.649878, 'tags': ['elit', 'commodo', 'ut', 'ullamco', 'ullamco', 'velit', 'ullamco'], 'friends': [{'id': 0, 'name': 'Dora Mack'}, {'id': 1, 'name': 'Christensen Camacho'}, {'id': 2, 'name': 'Castro Kelly'}], 'greeting': 'Hello, Heath Castaneda! You have 12 unread messages.', 'favoriteFruit': 'strawberry'}, {'_id': '54e23c3e69d22e49c7fe62de', 'index': 15, 'guid': '33d2bbe5-d6f7-4844-88fc-b9f6af63b373', 'isActive': False, 'balance': '$3,062.41', 'picture': 'http://placehold.it/32x32', 'age': 38, 'eyeColor': 'brown', 'name': 'Greer Blankenship', 'gender': 'male', 'company': 'QUALITERN', 'email': 'greerblankenship@qualitern.com', 'phone': '+1 (957) 482-3874', 'address': '557 Ingraham Street, Brambleton, South Dakota, 8482', 'about': 'Non in excepteur nostrud consectetur. Qui non consectetur officia incididunt elit laboris exercitation exercitation est minim veniam ullamco dolore. Eu sit aute culpa ex sunt amet. Ut et amet Lorem sunt anim pariatur.\\r\\n', 'registered': '2014-03-30T21:39:41 +05:00', 'latitude': -71.093388, 'longitude': 65.740255, 'tags': ['enim', 'eiusmod', 'Lorem', 'reprehenderit', 'nisi', 'anim', 'sunt'], 'friends': [{'id': 0, 'name': 'Woods Norman'}, {'id': 1, 'name': 'Marilyn Haney'}, {'id': 2, 'name': 'Webster Nielsen'}], 'greeting': 'Hello, Greer Blankenship! You have 7 unread messages.', 'favoriteFruit': 'banana'}, {'_id': '54e23c3e42676228c442a669', 'index': 16, 'guid': 'e44604f0-c7a8-4b89-bda3-0f4710ebe28a', 'isActive': False, 'balance': '$3,067.82', 'picture': 'http://placehold.it/32x32', 'age': 32, 'eyeColor': 'green', 'name': 'Coffey Hayes', 'gender': 'male', 'company': 'INQUALA', 'email': 'coffeyhayes@inquala.com', 'phone': '+1 (880) 451-3490', 'address': '490 Durland Place, Craig, Tennessee, 5034', 'about': 'Est esse irure Lorem ullamco veniam fugiat laborum veniam excepteur. Ad enim pariatur nostrud excepteur et nostrud velit dolore ex enim cillum in aliquip fugiat. Nulla laborum exercitation irure magna elit laborum magna ad excepteur. Cillum pariatur Lorem eiusmod ad dolore eiusmod veniam do minim laborum in dolor. Reprehenderit elit ad id voluptate Lorem Lorem dolor cupidatat excepteur. Proident minim ea aute nulla.\\r\\n', 'registered': '2014-04-01T23:04:39 +05:00', 'latitude': -30.662644, 'longitude': 59.806684, 'tags': ['duis', 'est', 'in', 'officia', 'nostrud', 'occaecat', 'mollit'], 'friends': [{'id': 0, 'name': 'Suarez Perry'}, {'id': 1, 'name': 'Marlene Sheppard'}, {'id': 2, 'name': 'Cohen Yates'}], 'greeting': 'Hello, Coffey Hayes! You have 19 unread messages.', 'favoriteFruit': 'strawberry'}, {'_id': '54e23c3e4ac5969958013235', 'index': 17, 'guid': 'fa7e26df-d239-41e8-9aa9-be5e808b6f89', 'isActive': True, 'balance': '$2,646.76', 'picture': 'http://placehold.it/32x32', 'age': 24, 'eyeColor': 'brown', 'name': 'Leanne Hurst', 'gender': 'female', 'company': 'ACCIDENCY', 'email': 'leannehurst@accidency.com', 'phone': '+1 (820) 420-3317', 'address': '196 Columbus Place, Carbonville, New Jersey, 7513', 'about': 'Dolor occaecat dolore ut tempor. Veniam elit anim duis do pariatur. Qui excepteur nisi eiusmod mollit laboris fugiat commodo ipsum reprehenderit labore cillum. Aliquip laborum commodo nisi cupidatat labore nostrud exercitation adipisicing mollit eu magna proident ex Lorem. Nostrud magna sint sint consequat consectetur et sint.\\r\\n', 'registered': '2014-11-10T01:25:55 +06:00', 'latitude': 16.671695, 'longitude': 139.707959, 'tags': ['culpa', 'deserunt', 'tempor', 'quis', 'reprehenderit', 'incididunt', 'est'], 'friends': [{'id': 0, 'name': 'Farley Frank'}, {'id': 1, 'name': 'Pruitt Frye'}, {'id': 2, 'name': 'Simpson Cardenas'}], 'greeting': 'Hello, Leanne Hurst! You have 5 unread messages.', 'favoriteFruit': 'banana'}, {'_id': '54e23c3ed945981ba2580614', 'index': 18, 'guid': 'e608dc5c-fee4-4086-971b-3ebd37bfa137', 'isActive': True, 'balance': '$2,227.79', 'picture': 'http://placehold.it/32x32', 'age': 22, 'eyeColor': 'brown', 'name': 'Ewing Larson', 'gender': 'male', 'company': 'ESCENTA', 'email': 'ewinglarson@escenta.com', 'phone': '+1 (943) 439-3760', 'address': '136 Beard Street, Wattsville, New Hampshire, 2803', 'about': 'Veniam eiusmod exercitation culpa mollit reprehenderit ullamco voluptate voluptate irure qui duis anim et. Laborum dolor quis do voluptate. In pariatur dolor id mollit et enim. Qui ex qui in cillum irure enim non reprehenderit irure et excepteur aliquip eu eu.\\r\\n', 'registered': '2014-07-21T19:17:41 +05:00', 'latitude': 15.903555, 'longitude': -159.721203, 'tags': ['Lorem', 'magna', 'dolor', 'aliquip', 'reprehenderit', 'eu', 'voluptate'], 'friends': [{'id': 0, 'name': 'Suzette Huffman'}, {'id': 1, 'name': 'Paige Santiago'}, {'id': 2, 'name': 'Dollie Fernandez'}], 'greeting': 'Hello, Ewing Larson! You have 16 unread messages.', 'favoriteFruit': 'strawberry'}]\n"
     ]
    }
   ],
   "source": [
    "print(list(profs))"
   ]
  },
  {
   "cell_type": "code",
   "execution_count": 137,
   "id": "3c8d8a1e",
   "metadata": {
    "scrolled": true
   },
   "outputs": [
    {
     "name": "stdout",
     "output_type": "stream",
     "text": [
      "19\n",
      "['Hebert Estes', 'Allison Wynn', 'Jacobs Floyd', 'Fay Hammond', 'Chasity Marsh', 'Camacho Cortez', 'Avery Flynn', 'Michael Cash', 'Madeleine Bray', 'Corine French', 'Trudy Cummings', 'Peggy Mayer', 'Chan Hurley', 'Diaz Pena', 'Heath Castaneda', 'Greer Blankenship', 'Coffey Hayes', 'Leanne Hurst', 'Ewing Larson']\n"
     ]
    }
   ],
   "source": [
    "def user_numbers():\n",
    "    list_of_names = []\n",
    "    i=0\n",
    "    for nom in profs:\n",
    "        if profs[i]['name'] not in list_of_names:\n",
    "            list_of_names.append(profs[i]['name'])\n",
    "            i+=1\n",
    "               \n",
    "        else:\n",
    "            i += 1\n",
    "            continue\n",
    "    print(len(list_of_names))\n",
    "    print(list_of_names)\n",
    "\n",
    "#user_numbers()"
   ]
  },
  {
   "cell_type": "code",
   "execution_count": 146,
   "id": "25dfdf56",
   "metadata": {},
   "outputs": [
    {
     "name": "stdout",
     "output_type": "stream",
     "text": [
      "9\n",
      "['Jacobs Floyd', 'Camacho Cortez', 'Corine French', 'Trudy Cummings', 'Peggy Mayer', 'Diaz Pena', 'Heath Castaneda', 'Leanne Hurst', 'Ewing Larson']\n"
     ]
    }
   ],
   "source": [
    "def active_users():\n",
    "    list_active_users = []\n",
    "    i=0\n",
    "    for status in profs:\n",
    "        if profs[i]['isActive'] == True:\n",
    "            list_active_users.append(profs[i]['name'])\n",
    "            i += 1\n",
    "        else:\n",
    "            i += 1\n",
    "            continue\n",
    "    print(len(list_active_users))\n",
    "    print(list_active_users)\n",
    "#active_users()"
   ]
  },
  {
   "cell_type": "code",
   "execution_count": 148,
   "id": "594a33d1",
   "metadata": {},
   "outputs": [
    {
     "name": "stdout",
     "output_type": "stream",
     "text": [
      "10\n",
      "['Hebert Estes', 'Allison Wynn', 'Fay Hammond', 'Chasity Marsh', 'Avery Flynn', 'Michael Cash', 'Madeleine Bray', 'Chan Hurley', 'Greer Blankenship', 'Coffey Hayes']\n"
     ]
    }
   ],
   "source": [
    "def nonactive_users():\n",
    "    list_nonactive_users = []\n",
    "    i=0\n",
    "    for status in profs:\n",
    "        if profs[i]['isActive'] == False:\n",
    "            list_nonactive_users.append(profs[i]['name'])\n",
    "            i += 1\n",
    "        else:\n",
    "            i += 1\n",
    "            continue\n",
    "    print(len(list_nonactive_users))\n",
    "    print(list_nonactive_users)\n",
    "#nonactive_users()"
   ]
  },
  {
   "cell_type": "code",
   "execution_count": 194,
   "id": "9435eae6",
   "metadata": {
    "scrolled": false
   },
   "outputs": [],
   "source": [
    "#can be made easier by defining a function to pull the balance\n",
    "#and strip/convert, then just call the function in here\n",
    "\n",
    "from re import sub\n",
    "import decimal\n",
    "\n",
    "def total_balances():\n",
    "    balance_sum = 0\n",
    "    i=0\n",
    "    for status in profs:\n",
    "        print(profs[i][\"balance\"])\n",
    "        bal = float(profs[i][\"balance\"].strip('$').replace(',',\"\"))\n",
    "        print(bal)\n",
    "        dec_bal = Decimal(bal)\n",
    "        if bal != 0:\n",
    "            balance_sum += bal\n",
    "            i += 1\n",
    "        else:\n",
    "            i += 1\n",
    "            continue\n",
    "    print(balance_sum)\n",
    "    return(balance_sum)\n"
   ]
  },
  {
   "cell_type": "code",
   "execution_count": 195,
   "id": "3bfc69a4",
   "metadata": {},
   "outputs": [
    {
     "name": "stdout",
     "output_type": "stream",
     "text": [
      "$2,097.02\n",
      "2097.02\n",
      "$3,654.02\n",
      "3654.02\n",
      "$1,536.02\n",
      "1536.02\n",
      "$3,919.64\n",
      "3919.64\n",
      "$3,681.39\n",
      "3681.39\n",
      "$1,694.42\n",
      "1694.42\n",
      "$1,214.10\n",
      "1214.1\n",
      "$2,930.31\n",
      "2930.31\n",
      "$1,944.15\n",
      "1944.15\n",
      "$2,839.22\n",
      "2839.22\n",
      "$2,467.31\n",
      "2467.31\n",
      "$3,304.99\n",
      "3304.99\n",
      "$3,844.42\n",
      "3844.42\n",
      "$3,594.99\n",
      "3594.99\n",
      "$2,940.24\n",
      "2940.24\n",
      "$3,062.41\n",
      "3062.41\n",
      "$3,067.82\n",
      "3067.82\n",
      "$2,646.76\n",
      "2646.76\n",
      "$2,227.79\n",
      "2227.79\n",
      "52667.02\n"
     ]
    }
   ],
   "source": [
    "balance_sum = total_balances()"
   ]
  },
  {
   "cell_type": "code",
   "execution_count": 178,
   "id": "7c6203a9",
   "metadata": {},
   "outputs": [
    {
     "data": {
      "text/plain": [
       "Decimal('0.66666666666666662965923251249478198587894439697265625')"
      ]
     },
     "execution_count": 178,
     "metadata": {},
     "output_type": "execute_result"
    }
   ],
   "source": [
    "import decimal\n",
    "\n",
    "Decimal(2/3)"
   ]
  },
  {
   "cell_type": "code",
   "execution_count": 196,
   "id": "cef1bd49",
   "metadata": {},
   "outputs": [
    {
     "data": {
      "text/plain": [
       "2771.95"
      ]
     },
     "execution_count": 196,
     "metadata": {},
     "output_type": "execute_result"
    }
   ],
   "source": [
    "round(balance_sum / len(profs),2)"
   ]
  },
  {
   "cell_type": "code",
   "execution_count": 197,
   "id": "e102f487",
   "metadata": {},
   "outputs": [],
   "source": [
    "#lowest balance\n",
    "balance_ls = 0\n"
   ]
  },
  {
   "cell_type": "code",
   "execution_count": 198,
   "id": "02569016",
   "metadata": {},
   "outputs": [
    {
     "ename": "TypeError",
     "evalue": "'int' object is not iterable",
     "output_type": "error",
     "traceback": [
      "\u001b[0;31m---------------------------------------------------------------------------\u001b[0m",
      "\u001b[0;31mTypeError\u001b[0m                                 Traceback (most recent call last)",
      "Input \u001b[0;32mIn [198]\u001b[0m, in \u001b[0;36m<cell line: 1>\u001b[0;34m()\u001b[0m\n\u001b[0;32m----> 1\u001b[0m \u001b[38;5;28;43mmin\u001b[39;49m\u001b[43m(\u001b[49m\u001b[43mbalance_ls\u001b[49m\u001b[43m)\u001b[49m\n",
      "\u001b[0;31mTypeError\u001b[0m: 'int' object is not iterable"
     ]
    }
   ],
   "source": [
    "min(balance_ls)"
   ]
  },
  {
   "cell_type": "code",
   "execution_count": 199,
   "id": "7ff856c8",
   "metadata": {},
   "outputs": [
    {
     "ename": "SyntaxError",
     "evalue": "invalid syntax (2816531721.py, line 2)",
     "output_type": "error",
     "traceback": [
      "\u001b[0;36m  Input \u001b[0;32mIn [199]\u001b[0;36m\u001b[0m\n\u001b[0;31m    if profile['balance'].strip('$').replace(',','') == min(balance_ls)\u001b[0m\n\u001b[0m                                                                       ^\u001b[0m\n\u001b[0;31mSyntaxError\u001b[0m\u001b[0;31m:\u001b[0m invalid syntax\n"
     ]
    }
   ],
   "source": [
    "for profile in profiles:\n",
    "    if profile['balance'].strip('$').replace(',','') == min(balance_ls)\n",
    "    print(f'User {profile['name']} has the lowest amount of cash: {profile['balance']]'')"
   ]
  },
  {
   "cell_type": "code",
   "execution_count": null,
   "id": "c21585cf",
   "metadata": {},
   "outputs": [],
   "source": []
  },
  {
   "cell_type": "code",
   "execution_count": 200,
   "id": "143ce81a",
   "metadata": {},
   "outputs": [
    {
     "ename": "SyntaxError",
     "evalue": "invalid syntax (2404857631.py, line 2)",
     "output_type": "error",
     "traceback": [
      "\u001b[0;36m  Input \u001b[0;32mIn [200]\u001b[0;36m\u001b[0m\n\u001b[0;31m    if profilep['balance'].strip('$').replace(',','')\u001b[0m\n\u001b[0m                                                     ^\u001b[0m\n\u001b[0;31mSyntaxError\u001b[0m\u001b[0;31m:\u001b[0m invalid syntax\n"
     ]
    }
   ],
   "source": [
    "for profile in profiles:\n",
    "    if profilep['balance'].strip('$').replace(',','')"
   ]
  },
  {
   "cell_type": "code",
   "execution_count": 229,
   "id": "16da52c7",
   "metadata": {},
   "outputs": [
    {
     "name": "stdout",
     "output_type": "stream",
     "text": [
      "strawberry\n",
      "apple\n",
      "apple\n",
      "apple\n",
      "apple\n",
      "apple\n",
      "apple\n",
      "apple\n",
      "apple\n",
      "apple\n",
      "apple\n",
      "apple\n",
      "apple\n",
      "apple\n",
      "apple\n",
      "apple\n",
      "apple\n",
      "apple\n",
      "apple\n"
     ]
    }
   ],
   "source": [
    "fruits = []\n",
    "i = 0\n",
    "for thing in profs:\n",
    "    print(profs[i]['favoriteFruit'])\n",
    "    fruits.append(profs[i]['favoriteFruit'])\n",
    "    i =+ 1"
   ]
  },
  {
   "cell_type": "code",
   "execution_count": 206,
   "id": "1cfa1f06",
   "metadata": {},
   "outputs": [
    {
     "data": {
      "text/plain": [
       "set()"
      ]
     },
     "execution_count": 206,
     "metadata": {},
     "output_type": "execute_result"
    }
   ],
   "source": [
    "set(fruits)"
   ]
  },
  {
   "cell_type": "code",
   "execution_count": 230,
   "id": "c1791dcc",
   "metadata": {},
   "outputs": [
    {
     "data": {
      "text/plain": [
       "1"
      ]
     },
     "execution_count": 230,
     "metadata": {},
     "output_type": "execute_result"
    }
   ],
   "source": [
    "fruits.count('strawberry')\n",
    "\n",
    "#max(fruits, key=fruits.count)\n"
   ]
  },
  {
   "cell_type": "code",
   "execution_count": null,
   "id": "2d8075c8",
   "metadata": {},
   "outputs": [],
   "source": []
  },
  {
   "cell_type": "markdown",
   "id": "6bc73883",
   "metadata": {},
   "source": [
    "# least common fruit"
   ]
  },
  {
   "cell_type": "code",
   "execution_count": 208,
   "id": "73039fe4",
   "metadata": {},
   "outputs": [
    {
     "ename": "ValueError",
     "evalue": "min() arg is an empty sequence",
     "output_type": "error",
     "traceback": [
      "\u001b[0;31m---------------------------------------------------------------------------\u001b[0m",
      "\u001b[0;31mValueError\u001b[0m                                Traceback (most recent call last)",
      "Input \u001b[0;32mIn [208]\u001b[0m, in \u001b[0;36m<cell line: 1>\u001b[0;34m()\u001b[0m\n\u001b[0;32m----> 1\u001b[0m \u001b[38;5;28;43mmin\u001b[39;49m\u001b[43m(\u001b[49m\u001b[43mfruits\u001b[49m\u001b[43m,\u001b[49m\u001b[43m \u001b[49m\u001b[43mkey\u001b[49m\u001b[38;5;241;43m=\u001b[39;49m\u001b[43mfruits\u001b[49m\u001b[38;5;241;43m.\u001b[39;49m\u001b[43mcount\u001b[49m\u001b[43m)\u001b[49m\n",
      "\u001b[0;31mValueError\u001b[0m: min() arg is an empty sequence"
     ]
    }
   ],
   "source": [
    "min(fruits, key=fruits.count)"
   ]
  },
  {
   "cell_type": "code",
   "execution_count": 209,
   "id": "febe2d35",
   "metadata": {},
   "outputs": [
    {
     "data": {
      "text/plain": [
       "{'_id': '54e23c3e46ab53a440b580e8',\n",
       " 'index': 0,\n",
       " 'guid': '9962b468-ef3e-4993-b677-617469bc3008',\n",
       " 'isActive': False,\n",
       " 'balance': '$2,097.02',\n",
       " 'picture': 'http://placehold.it/32x32',\n",
       " 'age': 39,\n",
       " 'eyeColor': 'blue',\n",
       " 'name': 'Hebert Estes',\n",
       " 'gender': 'male',\n",
       " 'company': 'ANDRYX',\n",
       " 'email': 'hebertestes@andryx.com',\n",
       " 'phone': '+1 (866) 456-2268',\n",
       " 'address': '121 Emmons Avenue, Klondike, Kentucky, 5975',\n",
       " 'about': 'Sit cillum deserunt irure laboris tempor fugiat laboris. Amet commodo amet est incididunt. Dolore qui fugiat cillum pariatur dolore excepteur elit ipsum.\\r\\n',\n",
       " 'registered': '2014-11-10T01:44:03 +06:00',\n",
       " 'latitude': -80.157843,\n",
       " 'longitude': 161.93016,\n",
       " 'tags': ['sit', 'occaecat', 'non', 'ea', 'sit', 'laboris', 'exercitation'],\n",
       " 'friends': [{'id': 0, 'name': 'Tanisha Leonard'},\n",
       "  {'id': 1, 'name': 'Dennis Wilson'},\n",
       "  {'id': 2, 'name': 'Lupe Howe'}],\n",
       " 'greeting': 'Hello, Hebert Estes! You have 4 unread messages.',\n",
       " 'favoriteFruit': 'strawberry'}"
      ]
     },
     "execution_count": 209,
     "metadata": {},
     "output_type": "execute_result"
    }
   ],
   "source": [
    "profs[0]"
   ]
  },
  {
   "cell_type": "code",
   "execution_count": 217,
   "id": "8d9a1e12",
   "metadata": {},
   "outputs": [],
   "source": [
    "message = profs[0]['greeting'].split(' ')"
   ]
  },
  {
   "cell_type": "code",
   "execution_count": 218,
   "id": "61c83df0",
   "metadata": {},
   "outputs": [
    {
     "data": {
      "text/plain": [
       "['Hello,', 'Hebert', 'Estes!', 'You', 'have', '4', 'unread', 'messages.']"
      ]
     },
     "execution_count": 218,
     "metadata": {},
     "output_type": "execute_result"
    }
   ],
   "source": [
    "message"
   ]
  },
  {
   "cell_type": "code",
   "execution_count": 223,
   "id": "2fd79b74",
   "metadata": {},
   "outputs": [
    {
     "name": "stdout",
     "output_type": "stream",
     "text": [
      "This is a number 16\n"
     ]
    }
   ],
   "source": [
    "for word in message:\n",
    "    if word.isdigit():\n",
    "        print('This is a number', word)"
   ]
  },
  {
   "cell_type": "code",
   "execution_count": 224,
   "id": "8629e045",
   "metadata": {},
   "outputs": [
    {
     "data": {
      "text/plain": [
       "210"
      ]
     },
     "execution_count": 224,
     "metadata": {},
     "output_type": "execute_result"
    }
   ],
   "source": [
    "sum_messages = 0\n",
    "for profile in profs:\n",
    "    message = profile['greeting'].split(' ')\n",
    "    for word in message:\n",
    "        if word.isdigit():\n",
    "            sum_messages = sum_messages + int(word)\n",
    "            \n",
    "sum_messages"
   ]
  },
  {
   "cell_type": "code",
   "execution_count": null,
   "id": "1c0e3a6c",
   "metadata": {},
   "outputs": [],
   "source": []
  }
 ],
 "metadata": {
  "kernelspec": {
   "display_name": "Python 3 (ipykernel)",
   "language": "python",
   "name": "python3"
  },
  "language_info": {
   "codemirror_mode": {
    "name": "ipython",
    "version": 3
   },
   "file_extension": ".py",
   "mimetype": "text/x-python",
   "name": "python",
   "nbconvert_exporter": "python",
   "pygments_lexer": "ipython3",
   "version": "3.9.12"
  }
 },
 "nbformat": 4,
 "nbformat_minor": 5
}
